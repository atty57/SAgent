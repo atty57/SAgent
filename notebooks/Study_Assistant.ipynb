{
 "cells": [
  {
   "cell_type": "code",
   "execution_count": null,
   "id": "fbf8c221",
   "metadata": {},
   "outputs": [],
   "source": [
    "# StudyAgent Notebook 🚀\n",
    "This notebook processes educational PDFs and generates summaries, quizzes, and study plans.\n"
   ]
  },
  {
   "cell_type": "code",
   "execution_count": null,
   "id": "455dea6c",
   "metadata": {},
   "outputs": [],
   "source": [
    "# 📦 Install dependencies (Only needed if not already installed)\n",
    "!pip install crewai==0.28.8 pyPDF2 sentence-transformers bert_score icalendar"
   ]
  },
  {
   "cell_type": "code",
   "execution_count": null,
   "id": "d4e8e3be",
   "metadata": {},
   "outputs": [],
   "source": [
    "# 🔧 Import core modules\n",
    "import os\n",
    "from src.agents import create_agents\n",
    "from src.tasks import create_tasks\n",
    "from src.pdf_processor import PDFProcessor\n",
    "from crewai import Crew"
   ]
  },
  {
   "cell_type": "code",
   "execution_count": null,
   "id": "3469fa4f",
   "metadata": {},
   "outputs": [],
   "source": [
    "# 📚 Process your PDF\n",
    "pdf_path = \"sample.pdf\"  # ← Put your PDF path here\n",
    "processor = PDFProcessor()\n",
    "raw_text = processor.process_pdf(pdf_path)\n",
    "chunks = processor.chunk_content(raw_text)\n",
    "\n",
    "print(f\"🔹 {len(chunks)} chunks extracted\")"
   ]
  },
  {
   "cell_type": "code",
   "execution_count": null,
   "id": "6ea178d7",
   "metadata": {},
   "outputs": [],
   "source": [
    "# 🧠 Use Agents on a selected chunk\n",
    "chunk = chunks[0]\n",
    "chunk_text = chunk['text']\n",
    "\n",
    "agents = create_agents()\n",
    "content = {\"structured_content\": chunk_text}\n",
    "tasks = create_tasks(content, agents)\n",
    "crew = Crew(tasks=tasks)\n",
    "\n",
    "results = crew.kickoff()\n",
    "print(results)"
   ]
  },
  {
   "cell_type": "code",
   "execution_count": null,
   "id": "97caec51",
   "metadata": {},
   "outputs": [],
   "source": [
    "# ✅ (Optional) Validate the summary\n",
    "from src.validators import validate_summary\n",
    "summary = results  # Assuming summary text is returned\n",
    "f1_score = validate_summary(summary, chunk_text)\n",
    "print(f\"BERTScore F1 for summary: {f1_score}\")"
   ]
  },
  {
   "cell_type": "code",
   "execution_count": null,
   "id": "fed45729",
   "metadata": {},
   "outputs": [],
   "source": [
    "# 📅 (Optional) Generate .ics calendar file\n",
    "# from src.utils.calendar_utils import generate_calendar\n",
    "# with open(\"study_schedule.ics\", \"wb\") as f:\n",
    "#     f.write(generate_calendar([{\"topic\": \"Math\", \"description\": \"Review Algebra\", \"start_time\": datetime.now(), \"end_time\": datetime.now() + timedelta(hours=1)}]))"
   ]
  },
  {
   "cell_type": "code",
   "execution_count": null,
   "id": "9b0f153c",
   "metadata": {},
   "outputs": [],
   "source": [
    "# 📖 (Optional) Extract references\n",
    "# from src.utils.citation_utils import extract_citations\n",
    "# citations = extract_citations(summary)\n",
    "# print(\"Citations found:\", citations)"
   ]
  }
 ],
 "metadata": {},
 "nbformat": 4,
 "nbformat_minor": 5
}
